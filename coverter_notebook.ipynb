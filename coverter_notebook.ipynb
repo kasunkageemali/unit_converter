{
 "cells": [
  {
   "cell_type": "markdown",
   "id": "cfc76964",
   "metadata": {},
   "source": [
    "# Group Project - Computer Science"
   ]
  },
  {
   "cell_type": "markdown",
   "id": "3656a9b6",
   "metadata": {},
   "source": [
    "## Unit Converter (Topic 3)\n",
    "We have selected this topic and created this programme to convert units of Temperature, Weight and Length"
   ]
  },
  {
   "cell_type": "markdown",
   "id": "ec408b77",
   "metadata": {},
   "source": [
    "## Kasunka Geemali Kollure \n",
    "## CN000752\n",
    "### 05/03/2024"
   ]
  },
  {
   "cell_type": "markdown",
   "id": "c41ede48",
   "metadata": {},
   "source": [
    "## Group No 03 - Team members\n",
    "- Shu Zhu\n",
    "- La Viet Khoi\n",
    "- Hathadura Chathurika Nadeeshani Silva \n",
    "- Kasunka Geemali Kollure\n",
    "- Thanuja Nimanathi"
   ]
  },
  {
   "cell_type": "code",
   "execution_count": 1,
   "id": "07201e34",
   "metadata": {},
   "outputs": [],
   "source": [
    "# Import necessary modules from tkinterface library for UI\n",
    "import tkinter as tk\n",
    "from tkinter import messagebox\n",
    "from tkinter import ttk"
   ]
  },
  {
   "cell_type": "code",
   "execution_count": 2,
   "id": "6e78fa73",
   "metadata": {},
   "outputs": [],
   "source": [
    "# When user submit the request by clicking \"Convert\" button, we need to indentify each request and handle it\n",
    "# to corresponding function.\n",
    "def submit():\n",
    "  submitted_value = int(entry.get())\n",
    "  selected_value = combo_box.get()\n",
    "  match selected_value:\n",
    "    case 'Fahrenheit to Celsius':\n",
    "      result = fa_to_ce(submitted_value)\n",
    "      messagebox.showinfo(\"Result\", result)\n",
    "    case 'Celsius To Fahrenheit':\n",
    "      result = ce_to_fa(submitted_value)\n",
    "      messagebox.showinfo(\"Result\", result)\n",
    "    case 'Miles To Kilometres':\n",
    "      result = mi_to_km(submitted_value)\n",
    "      messagebox.showinfo(\"Result\", result)\n",
    "    case 'Kilometres to Miles':\n",
    "      result = km_to_mi(submitted_value)\n",
    "      messagebox.showinfo(\"Result\", result)\n",
    "    case 'Pounds to Kilograms':\n",
    "      result = lb_to_kg(submitted_value)\n",
    "      messagebox.showinfo(\"Result\", result)\n",
    "    case 'Kilograms to Pounds':\n",
    "      result = kg_to_lb(submitted_value)\n",
    "      messagebox.showinfo(\"Result\", result)\n",
    "    case _:\n",
    "      messagebox.showerror('Invalid input')"
   ]
  },
  {
   "cell_type": "code",
   "execution_count": 3,
   "id": "cd570175",
   "metadata": {},
   "outputs": [],
   "source": [
    "# Display different unit when selecting different value in the dropdown box.\n",
    "def on_select():\n",
    "  selected_value = combo_box.get()\n",
    "  result = ''\n",
    "  match selected_value:\n",
    "    case 'Fahrenheit to Celsius':\n",
    "      result = 'Fahrenheit'\n",
    "    case 'Celsius To Fahrenheit':\n",
    "      result = 'Celsius'\n",
    "    case 'Miles To Kilometres':\n",
    "      result = 'Miles'\n",
    "    case 'Kilometres to Miles':\n",
    "      result = 'Kilometres'\n",
    "    case 'Pounds to Kilograms':\n",
    "      result = 'Pounds'\n",
    "    case 'Kilograms to Pounds':\n",
    "      result = 'Kilograms'\n",
    "    case _:\n",
    "      messagebox.showerror('Invalid input')\n",
    "  unit.configure(text=result)"
   ]
  },
  {
   "cell_type": "code",
   "execution_count": 4,
   "id": "0f1c0d56",
   "metadata": {},
   "outputs": [],
   "source": [
    "# define functions for 6 converting methods, also round converted value to 2 digits.\n",
    "def fa_to_ce(value):\n",
    "  converted_value = (value - 32) / 1.8\n",
    "  converted_value = round(converted_value, 2)\n",
    "  return converted_value"
   ]
  },
  {
   "cell_type": "code",
   "execution_count": 5,
   "id": "86c83ac5",
   "metadata": {},
   "outputs": [],
   "source": [
    "def ce_to_fa(value):\n",
    "  converted_value = value * 1.8 + 32\n",
    "  converted_value = round(converted_value, 2)\n",
    "  return converted_value"
   ]
  },
  {
   "cell_type": "code",
   "execution_count": 6,
   "id": "5332174d",
   "metadata": {},
   "outputs": [],
   "source": [
    "def mi_to_km(value):\n",
    "  converted_value = value * 1.609\n",
    "  converted_value = round(converted_value, 2)\n",
    "  return converted_value"
   ]
  },
  {
   "cell_type": "code",
   "execution_count": 7,
   "id": "bc23e49e",
   "metadata": {},
   "outputs": [],
   "source": [
    "def km_to_mi(value):\n",
    "  converted_value = value * 0.621371\n",
    "  converted_value = round(converted_value, 2)\n",
    "  return converted_value"
   ]
  },
  {
   "cell_type": "code",
   "execution_count": 8,
   "id": "6b35921f",
   "metadata": {},
   "outputs": [],
   "source": [
    "def lb_to_kg(value):\n",
    "  converted_value = value * 2.20462\n",
    "  converted_value = round(converted_value, 2)\n",
    "  return converted_value"
   ]
  },
  {
   "cell_type": "code",
   "execution_count": 9,
   "id": "6a7f5ae8",
   "metadata": {},
   "outputs": [],
   "source": [
    "def kg_to_lb(value):\n",
    "  converted_value = value / 2.20462\n",
    "  converted_value = round(converted_value, 2)\n",
    "  return converted_value"
   ]
  },
  {
   "cell_type": "code",
   "execution_count": 10,
   "id": "8c8fc4f9",
   "metadata": {},
   "outputs": [],
   "source": [
    "# Create and display Main window\n",
    "win_main = tk.Tk()\n",
    "win_main.title('Convertor')\n",
    "win_main.geometry('500x300')\n",
    "\n",
    "# Create Instruction Message\n",
    "msg_main_text = 'Select what unit you want to convert:'\n",
    "msg_main = tk.Label(text=msg_main_text)\n",
    "msg_main.pack()\n",
    "\n",
    "# Create a Dropdown box, which has 6 options to choose, and put it in the center.\n",
    "options = ['Fahrenheit to Celsius', 'Celsius To Fahrenheit', 'Miles To Kilometres', 'Kilometres to Miles', 'Pounds to '\n",
    "                                                                                                       'Kilograms',\n",
    "           'Kilograms to Pounds']\n",
    "combo_box = ttk.Combobox(win_main, values=options, state='readonly', justify='center')\n",
    "combo_box.pack()\n",
    "cb = ttk.Combobox()\n",
    "combo_box.bind(\"<<ComboboxSelected>>\", lambda event:on_select())\n",
    "\n",
    "# In order to place input box and unit in the same line, we need to define a frame and put\n",
    "# them in the frame together\n",
    "frame = ttk.Frame(win_main)\n",
    "frame.pack()\n",
    "\n",
    "# Create Input box to enter value\n",
    "entry = ttk.Entry(frame, width=5, justify='center')\n",
    "entry.pack(side='left')\n",
    "\n",
    "# Unit\n",
    "unit = tk.Label(frame, text='')\n",
    "unit.pack(side='left')\n",
    "\n",
    "# Create Convert button\n",
    "submit_button = ttk.Button(win_main, text='Convert', command=submit)\n",
    "submit_button.pack()\n",
    "\n",
    "# Start event mainloop, keep window open and wait for response.\n",
    "win_main.mainloop()"
   ]
  }
 ],
 "metadata": {
  "kernelspec": {
   "display_name": "Python 3 (ipykernel)",
   "language": "python",
   "name": "python3"
  },
  "language_info": {
   "codemirror_mode": {
    "name": "ipython",
    "version": 3
   },
   "file_extension": ".py",
   "mimetype": "text/x-python",
   "name": "python",
   "nbconvert_exporter": "python",
   "pygments_lexer": "ipython3",
   "version": "3.11.5"
  }
 },
 "nbformat": 4,
 "nbformat_minor": 5
}
